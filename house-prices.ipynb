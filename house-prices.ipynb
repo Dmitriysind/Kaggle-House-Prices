{
 "cells": [
  {
   "cell_type": "code",
   "execution_count": 1,
   "metadata": {},
   "outputs": [],
   "source": [
    "import pandas as pd\n",
    "import numpy as np\n",
    "\n",
    "import matplotlib.pyplot as plt\n",
    "from matplotlib.pyplot import figure\n",
    "plt.style.use(\"fivethirtyeight\")\n",
    "\n",
    "from tqdm.notebook import tqdm\n",
    "from sklearn.base import BaseEstimator\n",
    "from sklearn.preprocessing import OrdinalEncoder\n",
    "from sklearn.model_selection import train_test_split\n",
    "from sklearn.model_selection import GridSearchCV\n",
    "from sklearn.pipeline import Pipeline\n",
    "from sklearn.tree import DecisionTreeRegressor\n",
    "from sklearn.ensemble import RandomForestRegressor\n",
    "from sklearn.linear_model import LinearRegression\n",
    "from lightgbm import LGBMRegressor\n",
    "from catboost import CatBoostRegressor\n",
    "\n",
    "from sklearn.compose import ColumnTransformer\n",
    "from sklearn.preprocessing import OneHotEncoder\n",
    "from sklearn.preprocessing import MinMaxScaler\n",
    "from sklearn.impute import SimpleImputer\n",
    "\n",
    "from sklearn.metrics import mean_squared_error\n",
    "from sklearn.model_selection import cross_val_score\n",
    "from sklearn.decomposition import PCA\n",
    "from sklearn.decomposition import TruncatedSVD\n",
    "from sklearn.feature_selection import SelectKBest, chi2\n",
    "\n",
    "\n",
    "import warnings\n",
    "warnings.simplefilter(action='ignore', category=FutureWarning)"
   ]
  },
  {
   "cell_type": "markdown",
   "metadata": {},
   "source": [
    "Getting data"
   ]
  },
  {
   "cell_type": "code",
   "execution_count": 2,
   "metadata": {},
   "outputs": [],
   "source": [
    "dataset_folder = 'datasets'\n",
    "\n",
    "dataset_name_train = 'train.csv'\n",
    "dataset_name_test = 'test.csv'\n",
    "sample_submission = 'sample_submission.csv'\n",
    "\n",
    "train = pd.read_csv(dataset_folder +'/'+ dataset_name_train)\n",
    "test = pd.read_csv(dataset_folder +'/'+ dataset_name_test)\n",
    "sample_submission = pd.read_csv(dataset_folder +'/'+ sample_submission)\n"
   ]
  },
  {
   "cell_type": "markdown",
   "metadata": {},
   "source": [
    "X and y"
   ]
  },
  {
   "cell_type": "code",
   "execution_count": 3,
   "metadata": {},
   "outputs": [],
   "source": [
    "X_train = train.drop(columns={'SalePrice', \"Id\"}, axis=1)\n",
    "y_train = train['SalePrice']\n",
    "\n",
    "X_test = test.drop(columns={\"Id\"}, axis=1)\n"
   ]
  },
  {
   "cell_type": "markdown",
   "metadata": {},
   "source": [
    "Get num and cat features"
   ]
  },
  {
   "cell_type": "code",
   "execution_count": 4,
   "metadata": {},
   "outputs": [],
   "source": [
    "num_features = X_train.select_dtypes(include=np.number).columns.tolist()\n",
    "cat_features = X_train.select_dtypes(['object']).columns.tolist()"
   ]
  },
  {
   "cell_type": "markdown",
   "metadata": {},
   "source": [
    "Delete duplicates"
   ]
  },
  {
   "cell_type": "code",
   "execution_count": 5,
   "metadata": {},
   "outputs": [],
   "source": [
    "train.drop_duplicates(inplace=True)"
   ]
  },
  {
   "cell_type": "markdown",
   "metadata": {},
   "source": [
    "Fill cat features with \"NaN\""
   ]
  },
  {
   "cell_type": "code",
   "execution_count": 6,
   "metadata": {},
   "outputs": [],
   "source": [
    "imputer_cat = SimpleImputer(strategy='constant', fill_value='NaN')\n",
    "X_train[cat_features] = imputer_cat.fit_transform(X_train[cat_features])\n",
    "X_train[cat_features] = X_train[cat_features].astype('category')\n",
    "\n",
    "X_test[cat_features] = imputer_cat.fit_transform(X_test[cat_features])\n",
    "X_test[cat_features] = X_test[cat_features].astype('category')"
   ]
  },
  {
   "cell_type": "markdown",
   "metadata": {},
   "source": [
    "Make encoders"
   ]
  },
  {
   "cell_type": "code",
   "execution_count": 7,
   "metadata": {},
   "outputs": [],
   "source": [
    "cat_transformer_linear = OneHotEncoder(handle_unknown='ignore')\n",
    "num_transformer_linear = Pipeline([ ('imputer', SimpleImputer(strategy='median')), ('scaler', MinMaxScaler()) ])\n",
    "\n",
    "preprocessor = ColumnTransformer(\n",
    "    transformers=[\n",
    "        (\"num\", num_transformer_linear, num_features),\n",
    "        (\"cat\", cat_transformer_linear, cat_features)\n",
    "    ]\n",
    ")\n"
   ]
  },
  {
   "cell_type": "markdown",
   "metadata": {},
   "source": [
    "Result lists"
   ]
  },
  {
   "cell_type": "code",
   "execution_count": 8,
   "metadata": {},
   "outputs": [],
   "source": [
    "pipelines = []\n",
    "params = []\n",
    "names = []"
   ]
  },
  {
   "cell_type": "markdown",
   "metadata": {},
   "source": [
    "Pipelines"
   ]
  },
  {
   "cell_type": "code",
   "execution_count": 9,
   "metadata": {},
   "outputs": [],
   "source": [
    "pipeline_tree = Pipeline([('preprocessor', preprocessor), ('trun_svd', TruncatedSVD(n_components=20)),\n",
    "                          ('tree', None)])  \n",
    "   \n",
    "pipeline_lgm = Pipeline([('lgm', None)])         \n",
    "\n",
    "pipeline_catboost = Pipeline([('cat', None)])                          "
   ]
  },
  {
   "cell_type": "markdown",
   "metadata": {},
   "source": [
    "Parametres"
   ]
  },
  {
   "cell_type": "code",
   "execution_count": 25,
   "metadata": {},
   "outputs": [],
   "source": [
    "param_tree = [\n",
    "    {'tree': (RandomForestRegressor(random_state=1),),\n",
    "     'tree__n_estimators': range(1, 20, 5),\n",
    "     'tree__max_depth': range(1, 20, 5),\n",
    "     }\n",
    "]\n",
    "\n",
    "param_tree_default = [\n",
    "    {'tree': (RandomForestRegressor(random_state=1),),     \n",
    "     }\n",
    "]\n",
    "\n",
    "param_lgm = [\n",
    "    {'lgm': (LGBMRegressor(random_state=1, learning_rate=0.1),),\n",
    "     'lgm__n_estimators': [50, 100, 200, 400, 800, 1600],\n",
    "     'lgm__max_depth': [5, 10, 20, 40, 80, 160],\n",
    "     }\n",
    "]\n",
    "\n",
    "param_lgm_default = [\n",
    "    {'lgm': (LGBMRegressor(random_state=1),),}\n",
    "]\n",
    "\n",
    "param_catboost = [\n",
    "     {'cat': (CatBoostRegressor(random_state=1, verbose=False, cat_features=cat_features),),\n",
    "      }\n",
    " ]\n",
    "param_catboost_1 = [\n",
    "     {'cat': (CatBoostRegressor(random_state=1, verbose=False, cat_features=cat_features),),\n",
    "     'cat__learning_rate': np.logspace(-4, -1, 5),\n",
    "     'cat__iterations': range(25, 100, 25),\n",
    "     'cat__depth': range(5,10,5),\n",
    "     }\n",
    " ]"
   ]
  },
  {
   "cell_type": "markdown",
   "metadata": {},
   "source": [
    "Names"
   ]
  },
  {
   "cell_type": "code",
   "execution_count": 26,
   "metadata": {},
   "outputs": [],
   "source": [
    "names = ['TREE' , \"TREE_DEFAULT\", \"LGM\", \"LGM_DEFAULT\", \"CAT_BOOST\", \"CAT_BOOST_1\"]"
   ]
  },
  {
   "cell_type": "code",
   "execution_count": 27,
   "metadata": {},
   "outputs": [],
   "source": [
    "pipelines.append(pipeline_tree)\n",
    "pipelines.append(pipeline_tree)\n",
    "pipelines.append(pipeline_lgm)\n",
    "pipelines.append(pipeline_lgm)\n",
    "pipelines.append(pipeline_catboost)\n",
    "pipelines.append(pipeline_catboost)\n",
    "\n",
    "params.append(param_tree)\n",
    "params.append(param_tree_default)\n",
    "params.append(param_lgm)\n",
    "params.append(param_lgm_default)\n",
    "params.append(param_catboost)\n",
    "params.append(param_catboost_1)\n"
   ]
  },
  {
   "cell_type": "markdown",
   "metadata": {},
   "source": [
    "Loop over pipelines"
   ]
  },
  {
   "cell_type": "code",
   "execution_count": 28,
   "metadata": {},
   "outputs": [
    {
     "data": {
      "application/vnd.jupyter.widget-view+json": {
       "model_id": "e85dbaf0200a44c78823d93cf153e48b",
       "version_major": 2,
       "version_minor": 0
      },
      "text/plain": [
       "0it [00:00, ?it/s]"
      ]
     },
     "metadata": {},
     "output_type": "display_data"
    },
    {
     "name": "stdout",
     "output_type": "stream",
     "text": [
      "Top TREE models:\n"
     ]
    },
    {
     "data": {
      "text/html": [
       "<div>\n",
       "<style scoped>\n",
       "    .dataframe tbody tr th:only-of-type {\n",
       "        vertical-align: middle;\n",
       "    }\n",
       "\n",
       "    .dataframe tbody tr th {\n",
       "        vertical-align: top;\n",
       "    }\n",
       "\n",
       "    .dataframe thead th {\n",
       "        text-align: right;\n",
       "    }\n",
       "</style>\n",
       "<table border=\"1\" class=\"dataframe\">\n",
       "  <thead>\n",
       "    <tr style=\"text-align: right;\">\n",
       "      <th></th>\n",
       "      <th>params</th>\n",
       "      <th>cv_score</th>\n",
       "      <th>mean_fit_time</th>\n",
       "      <th>rank_cv_score</th>\n",
       "    </tr>\n",
       "  </thead>\n",
       "  <tbody>\n",
       "    <tr>\n",
       "      <th>15</th>\n",
       "      <td>{'tree': RandomForestRegressor(max_depth=16, n...</td>\n",
       "      <td>-41084.380443</td>\n",
       "      <td>0.409494</td>\n",
       "      <td>1</td>\n",
       "    </tr>\n",
       "    <tr>\n",
       "      <th>14</th>\n",
       "      <td>{'tree': RandomForestRegressor(max_depth=16, n...</td>\n",
       "      <td>-42037.255360</td>\n",
       "      <td>0.452905</td>\n",
       "      <td>2</td>\n",
       "    </tr>\n",
       "    <tr>\n",
       "      <th>11</th>\n",
       "      <td>{'tree': RandomForestRegressor(max_depth=16, n...</td>\n",
       "      <td>-42096.125626</td>\n",
       "      <td>0.580884</td>\n",
       "      <td>3</td>\n",
       "    </tr>\n",
       "    <tr>\n",
       "      <th>10</th>\n",
       "      <td>{'tree': RandomForestRegressor(max_depth=16, n...</td>\n",
       "      <td>-42544.902648</td>\n",
       "      <td>0.525913</td>\n",
       "      <td>4</td>\n",
       "    </tr>\n",
       "    <tr>\n",
       "      <th>7</th>\n",
       "      <td>{'tree': RandomForestRegressor(max_depth=16, n...</td>\n",
       "      <td>-42630.812200</td>\n",
       "      <td>0.564692</td>\n",
       "      <td>5</td>\n",
       "    </tr>\n",
       "  </tbody>\n",
       "</table>\n",
       "</div>"
      ],
      "text/plain": [
       "                                               params      cv_score  \\\n",
       "15  {'tree': RandomForestRegressor(max_depth=16, n... -41084.380443   \n",
       "14  {'tree': RandomForestRegressor(max_depth=16, n... -42037.255360   \n",
       "11  {'tree': RandomForestRegressor(max_depth=16, n... -42096.125626   \n",
       "10  {'tree': RandomForestRegressor(max_depth=16, n... -42544.902648   \n",
       "7   {'tree': RandomForestRegressor(max_depth=16, n... -42630.812200   \n",
       "\n",
       "    mean_fit_time  rank_cv_score  \n",
       "15       0.409494              1  \n",
       "14       0.452905              2  \n",
       "11       0.580884              3  \n",
       "10       0.525913              4  \n",
       "7        0.564692              5  "
      ]
     },
     "metadata": {},
     "output_type": "display_data"
    },
    {
     "name": "stdout",
     "output_type": "stream",
     "text": [
      "Top TREE_DEFAULT models:\n"
     ]
    },
    {
     "data": {
      "text/html": [
       "<div>\n",
       "<style scoped>\n",
       "    .dataframe tbody tr th:only-of-type {\n",
       "        vertical-align: middle;\n",
       "    }\n",
       "\n",
       "    .dataframe tbody tr th {\n",
       "        vertical-align: top;\n",
       "    }\n",
       "\n",
       "    .dataframe thead th {\n",
       "        text-align: right;\n",
       "    }\n",
       "</style>\n",
       "<table border=\"1\" class=\"dataframe\">\n",
       "  <thead>\n",
       "    <tr style=\"text-align: right;\">\n",
       "      <th></th>\n",
       "      <th>params</th>\n",
       "      <th>cv_score</th>\n",
       "      <th>mean_fit_time</th>\n",
       "      <th>rank_cv_score</th>\n",
       "    </tr>\n",
       "  </thead>\n",
       "  <tbody>\n",
       "    <tr>\n",
       "      <th>0</th>\n",
       "      <td>{'tree': RandomForestRegressor(random_state=1)}</td>\n",
       "      <td>-40671.440914</td>\n",
       "      <td>1.81126</td>\n",
       "      <td>1</td>\n",
       "    </tr>\n",
       "  </tbody>\n",
       "</table>\n",
       "</div>"
      ],
      "text/plain": [
       "                                            params      cv_score  \\\n",
       "0  {'tree': RandomForestRegressor(random_state=1)} -40671.440914   \n",
       "\n",
       "   mean_fit_time  rank_cv_score  \n",
       "0        1.81126              1  "
      ]
     },
     "metadata": {},
     "output_type": "display_data"
    },
    {
     "name": "stdout",
     "output_type": "stream",
     "text": [
      "Top LGM models:\n"
     ]
    },
    {
     "data": {
      "text/html": [
       "<div>\n",
       "<style scoped>\n",
       "    .dataframe tbody tr th:only-of-type {\n",
       "        vertical-align: middle;\n",
       "    }\n",
       "\n",
       "    .dataframe tbody tr th {\n",
       "        vertical-align: top;\n",
       "    }\n",
       "\n",
       "    .dataframe thead th {\n",
       "        text-align: right;\n",
       "    }\n",
       "</style>\n",
       "<table border=\"1\" class=\"dataframe\">\n",
       "  <thead>\n",
       "    <tr style=\"text-align: right;\">\n",
       "      <th></th>\n",
       "      <th>params</th>\n",
       "      <th>cv_score</th>\n",
       "      <th>mean_fit_time</th>\n",
       "      <th>rank_cv_score</th>\n",
       "    </tr>\n",
       "  </thead>\n",
       "  <tbody>\n",
       "    <tr>\n",
       "      <th>24</th>\n",
       "      <td>{'lgm': LGBMRegressor(max_depth=40, n_estimato...</td>\n",
       "      <td>-27638.697967</td>\n",
       "      <td>0.638375</td>\n",
       "      <td>1</td>\n",
       "    </tr>\n",
       "    <tr>\n",
       "      <th>18</th>\n",
       "      <td>{'lgm': LGBMRegressor(max_depth=40, n_estimato...</td>\n",
       "      <td>-27638.697967</td>\n",
       "      <td>0.668854</td>\n",
       "      <td>1</td>\n",
       "    </tr>\n",
       "    <tr>\n",
       "      <th>30</th>\n",
       "      <td>{'lgm': LGBMRegressor(max_depth=40, n_estimato...</td>\n",
       "      <td>-27638.697967</td>\n",
       "      <td>0.590666</td>\n",
       "      <td>1</td>\n",
       "    </tr>\n",
       "    <tr>\n",
       "      <th>12</th>\n",
       "      <td>{'lgm': LGBMRegressor(max_depth=40, n_estimato...</td>\n",
       "      <td>-27645.633771</td>\n",
       "      <td>0.601682</td>\n",
       "      <td>4</td>\n",
       "    </tr>\n",
       "    <tr>\n",
       "      <th>1</th>\n",
       "      <td>{'lgm': LGBMRegressor(max_depth=40, n_estimato...</td>\n",
       "      <td>-27662.887510</td>\n",
       "      <td>0.632726</td>\n",
       "      <td>5</td>\n",
       "    </tr>\n",
       "  </tbody>\n",
       "</table>\n",
       "</div>"
      ],
      "text/plain": [
       "                                               params      cv_score  \\\n",
       "24  {'lgm': LGBMRegressor(max_depth=40, n_estimato... -27638.697967   \n",
       "18  {'lgm': LGBMRegressor(max_depth=40, n_estimato... -27638.697967   \n",
       "30  {'lgm': LGBMRegressor(max_depth=40, n_estimato... -27638.697967   \n",
       "12  {'lgm': LGBMRegressor(max_depth=40, n_estimato... -27645.633771   \n",
       "1   {'lgm': LGBMRegressor(max_depth=40, n_estimato... -27662.887510   \n",
       "\n",
       "    mean_fit_time  rank_cv_score  \n",
       "24       0.638375              1  \n",
       "18       0.668854              1  \n",
       "30       0.590666              1  \n",
       "12       0.601682              4  \n",
       "1        0.632726              5  "
      ]
     },
     "metadata": {},
     "output_type": "display_data"
    },
    {
     "name": "stdout",
     "output_type": "stream",
     "text": [
      "Top LGM_DEFAULT models:\n"
     ]
    },
    {
     "data": {
      "text/html": [
       "<div>\n",
       "<style scoped>\n",
       "    .dataframe tbody tr th:only-of-type {\n",
       "        vertical-align: middle;\n",
       "    }\n",
       "\n",
       "    .dataframe tbody tr th {\n",
       "        vertical-align: top;\n",
       "    }\n",
       "\n",
       "    .dataframe thead th {\n",
       "        text-align: right;\n",
       "    }\n",
       "</style>\n",
       "<table border=\"1\" class=\"dataframe\">\n",
       "  <thead>\n",
       "    <tr style=\"text-align: right;\">\n",
       "      <th></th>\n",
       "      <th>params</th>\n",
       "      <th>cv_score</th>\n",
       "      <th>mean_fit_time</th>\n",
       "      <th>rank_cv_score</th>\n",
       "    </tr>\n",
       "  </thead>\n",
       "  <tbody>\n",
       "    <tr>\n",
       "      <th>0</th>\n",
       "      <td>{'lgm': LGBMRegressor(random_state=1)}</td>\n",
       "      <td>-27901.079555</td>\n",
       "      <td>0.557313</td>\n",
       "      <td>1</td>\n",
       "    </tr>\n",
       "  </tbody>\n",
       "</table>\n",
       "</div>"
      ],
      "text/plain": [
       "                                   params      cv_score  mean_fit_time  \\\n",
       "0  {'lgm': LGBMRegressor(random_state=1)} -27901.079555       0.557313   \n",
       "\n",
       "   rank_cv_score  \n",
       "0              1  "
      ]
     },
     "metadata": {},
     "output_type": "display_data"
    },
    {
     "name": "stdout",
     "output_type": "stream",
     "text": [
      "Top CAT_BOOST models:\n"
     ]
    },
    {
     "data": {
      "text/html": [
       "<div>\n",
       "<style scoped>\n",
       "    .dataframe tbody tr th:only-of-type {\n",
       "        vertical-align: middle;\n",
       "    }\n",
       "\n",
       "    .dataframe tbody tr th {\n",
       "        vertical-align: top;\n",
       "    }\n",
       "\n",
       "    .dataframe thead th {\n",
       "        text-align: right;\n",
       "    }\n",
       "</style>\n",
       "<table border=\"1\" class=\"dataframe\">\n",
       "  <thead>\n",
       "    <tr style=\"text-align: right;\">\n",
       "      <th></th>\n",
       "      <th>params</th>\n",
       "      <th>cv_score</th>\n",
       "      <th>mean_fit_time</th>\n",
       "      <th>rank_cv_score</th>\n",
       "    </tr>\n",
       "  </thead>\n",
       "  <tbody>\n",
       "    <tr>\n",
       "      <th>0</th>\n",
       "      <td>{'cat': &lt;catboost.core.CatBoostRegressor objec...</td>\n",
       "      <td>-26391.026523</td>\n",
       "      <td>134.208244</td>\n",
       "      <td>1</td>\n",
       "    </tr>\n",
       "  </tbody>\n",
       "</table>\n",
       "</div>"
      ],
      "text/plain": [
       "                                              params      cv_score  \\\n",
       "0  {'cat': <catboost.core.CatBoostRegressor objec... -26391.026523   \n",
       "\n",
       "   mean_fit_time  rank_cv_score  \n",
       "0     134.208244              1  "
      ]
     },
     "metadata": {},
     "output_type": "display_data"
    },
    {
     "name": "stdout",
     "output_type": "stream",
     "text": [
      "Top CAT_BOOST_1 models:\n"
     ]
    },
    {
     "data": {
      "text/html": [
       "<div>\n",
       "<style scoped>\n",
       "    .dataframe tbody tr th:only-of-type {\n",
       "        vertical-align: middle;\n",
       "    }\n",
       "\n",
       "    .dataframe tbody tr th {\n",
       "        vertical-align: top;\n",
       "    }\n",
       "\n",
       "    .dataframe thead th {\n",
       "        text-align: right;\n",
       "    }\n",
       "</style>\n",
       "<table border=\"1\" class=\"dataframe\">\n",
       "  <thead>\n",
       "    <tr style=\"text-align: right;\">\n",
       "      <th></th>\n",
       "      <th>params</th>\n",
       "      <th>cv_score</th>\n",
       "      <th>mean_fit_time</th>\n",
       "      <th>rank_cv_score</th>\n",
       "    </tr>\n",
       "  </thead>\n",
       "  <tbody>\n",
       "    <tr>\n",
       "      <th>18</th>\n",
       "      <td>{'cat': &lt;catboost.core.CatBoostRegressor objec...</td>\n",
       "      <td>-28924.878262</td>\n",
       "      <td>7.327346</td>\n",
       "      <td>1</td>\n",
       "    </tr>\n",
       "    <tr>\n",
       "      <th>8</th>\n",
       "      <td>{'cat': &lt;catboost.core.CatBoostRegressor objec...</td>\n",
       "      <td>-29237.452765</td>\n",
       "      <td>4.120916</td>\n",
       "      <td>2</td>\n",
       "    </tr>\n",
       "    <tr>\n",
       "      <th>28</th>\n",
       "      <td>{'cat': &lt;catboost.core.CatBoostRegressor objec...</td>\n",
       "      <td>-30927.700193</td>\n",
       "      <td>15.725790</td>\n",
       "      <td>3</td>\n",
       "    </tr>\n",
       "    <tr>\n",
       "      <th>13</th>\n",
       "      <td>{'cat': &lt;catboost.core.CatBoostRegressor objec...</td>\n",
       "      <td>-31918.814451</td>\n",
       "      <td>3.826291</td>\n",
       "      <td>4</td>\n",
       "    </tr>\n",
       "    <tr>\n",
       "      <th>3</th>\n",
       "      <td>{'cat': &lt;catboost.core.CatBoostRegressor objec...</td>\n",
       "      <td>-32410.934344</td>\n",
       "      <td>2.455715</td>\n",
       "      <td>5</td>\n",
       "    </tr>\n",
       "  </tbody>\n",
       "</table>\n",
       "</div>"
      ],
      "text/plain": [
       "                                               params      cv_score  \\\n",
       "18  {'cat': <catboost.core.CatBoostRegressor objec... -28924.878262   \n",
       "8   {'cat': <catboost.core.CatBoostRegressor objec... -29237.452765   \n",
       "28  {'cat': <catboost.core.CatBoostRegressor objec... -30927.700193   \n",
       "13  {'cat': <catboost.core.CatBoostRegressor objec... -31918.814451   \n",
       "3   {'cat': <catboost.core.CatBoostRegressor objec... -32410.934344   \n",
       "\n",
       "    mean_fit_time  rank_cv_score  \n",
       "18       7.327346              1  \n",
       "8        4.120916              2  \n",
       "28      15.725790              3  \n",
       "13       3.826291              4  \n",
       "3        2.455715              5  "
      ]
     },
     "metadata": {},
     "output_type": "display_data"
    }
   ],
   "source": [
    "results = {}\n",
    "for pipeline, param_grid, name in tqdm(zip(pipelines, params, names)):   \n",
    "     gs = GridSearchCV(pipeline,\n",
    "                  param_grid,\n",
    "                  scoring='neg_root_mean_squared_error',\n",
    "                  refit='neg_root_mean_squared_error',\n",
    "                  n_jobs=10,\n",
    "                  cv=5 )\n",
    "\n",
    "     gs.fit(X_train, y_train)  \n",
    "     \n",
    "     #top models table\n",
    "     print('Top ' + name + ' models:')\n",
    "     results_df = pd.DataFrame(gs.cv_results_)\n",
    "     results_df = results_df.sort_values(by=[\"rank_test_score\"])\n",
    "     display(results_df[['params', 'mean_test_score', 'mean_fit_time', 'rank_test_score']]\n",
    "            .head(5)\n",
    "            .rename(columns={'mean_test_score': 'cv_score'})\n",
    "            .rename(columns={'rank_test_score': 'rank_cv_score'}))\n",
    "\n",
    "     results[name] = gs     \n",
    "\n",
    "\n"
   ]
  },
  {
   "cell_type": "markdown",
   "metadata": {},
   "source": [
    "Make test submission with best estimator"
   ]
  },
  {
   "cell_type": "code",
   "execution_count": 23,
   "metadata": {},
   "outputs": [
    {
     "data": {
      "text/plain": [
       "array([1.00000000e-04, 3.16227766e-04, 1.00000000e-03, 3.16227766e-03,\n",
       "       1.00000000e-02, 3.16227766e-02, 1.00000000e-01, 3.16227766e-01,\n",
       "       1.00000000e+00])"
      ]
     },
     "execution_count": 23,
     "metadata": {},
     "output_type": "execute_result"
    }
   ],
   "source": []
  },
  {
   "cell_type": "code",
   "execution_count": 14,
   "metadata": {},
   "outputs": [],
   "source": [
    "test['pred'] = results['CAT_BOOST'].best_estimator_.predict(X_test)\n",
    "test[['Id', 'pred']].to_csv('test_submission.csv', index=False)"
   ]
  }
 ],
 "metadata": {
  "interpreter": {
   "hash": "42bb1801d49b3a0ca1c1c2e6e3b2df30bd00032d34c0aba2b487b6a88b28907c"
  },
  "kernelspec": {
   "display_name": "Python 3",
   "language": "python",
   "name": "python3"
  },
  "language_info": {
   "codemirror_mode": {
    "name": "ipython",
    "version": 3
   },
   "file_extension": ".py",
   "mimetype": "text/x-python",
   "name": "python",
   "nbconvert_exporter": "python",
   "pygments_lexer": "ipython3",
   "version": "3.8.8"
  }
 },
 "nbformat": 4,
 "nbformat_minor": 2
}
